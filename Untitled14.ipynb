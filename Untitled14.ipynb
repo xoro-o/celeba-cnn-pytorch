{
  "nbformat": 4,
  "nbformat_minor": 0,
  "metadata": {
    "colab": {
      "name": "Untitled14.ipynb",
      "provenance": [],
      "authorship_tag": "ABX9TyOLja6Gnz8P/pZ/B0yet2CA",
      "include_colab_link": true
    },
    "kernelspec": {
      "name": "python3",
      "display_name": "Python 3"
    },
    "language_info": {
      "name": "python"
    },
    "accelerator": "GPU"
  },
  "cells": [
    {
      "cell_type": "markdown",
      "metadata": {
        "id": "view-in-github",
        "colab_type": "text"
      },
      "source": [
        "<a href=\"https://colab.research.google.com/github/xoro-o/celeba-cnn-pytorch/blob/main/Untitled14.ipynb\" target=\"_parent\"><img src=\"https://colab.research.google.com/assets/colab-badge.svg\" alt=\"Open In Colab\"/></a>"
      ]
    },
    {
      "cell_type": "code",
      "execution_count": 1,
      "metadata": {
        "id": "PJd3FzO0pXKT"
      },
      "outputs": [],
      "source": [
        "import torchvision"
      ]
    },
    {
      "cell_type": "code",
      "source": [
        "from google.colab import drive\n",
        "drive.mount('/content/drive')"
      ],
      "metadata": {
        "colab": {
          "base_uri": "https://localhost:8080/"
        },
        "id": "WbbBXE9MqhKQ",
        "outputId": "4e7cea58-9cdb-4e14-9136-fd76b0f9ac34"
      },
      "execution_count": 2,
      "outputs": [
        {
          "output_type": "stream",
          "name": "stdout",
          "text": [
            "Mounted at /content/drive\n"
          ]
        }
      ]
    },
    {
      "cell_type": "code",
      "source": [
        "cd .."
      ],
      "metadata": {
        "colab": {
          "base_uri": "https://localhost:8080/"
        },
        "id": "2vloT8AEq1rk",
        "outputId": "00f90960-3105-4741-df10-5271eb6bdd98"
      },
      "execution_count": 21,
      "outputs": [
        {
          "output_type": "stream",
          "name": "stdout",
          "text": [
            "/content\n"
          ]
        }
      ]
    },
    {
      "cell_type": "code",
      "source": [
        "!unzip /content/drive/MyDrive/CelebA/celeba.zip "
      ],
      "metadata": {
        "colab": {
          "base_uri": "https://localhost:8080/"
        },
        "id": "a7vabXBot3ZF",
        "outputId": "93d6ed44-a7c4-4530-e09b-5d42c6345f36"
      },
      "execution_count": 3,
      "outputs": [
        {
          "output_type": "stream",
          "name": "stdout",
          "text": [
            "Archive:  /content/drive/MyDrive/CelebA/celeba.zip\n",
            "   creating: celeba/\n",
            "  inflating: celeba/img_align_celeba.zip  \n",
            "  inflating: __MACOSX/celeba/._img_align_celeba.zip  \n",
            "  inflating: celeba/list_attr_celeba.txt  \n",
            "  inflating: __MACOSX/celeba/._list_attr_celeba.txt  \n",
            "  inflating: celeba/.DS_Store        \n",
            "  inflating: __MACOSX/celeba/._.DS_Store  \n",
            "  inflating: celeba/list_bbox_celeba.txt  \n",
            "  inflating: __MACOSX/celeba/._list_bbox_celeba.txt  \n",
            "  inflating: celeba/list_landmarks_align_celeba.txt  \n",
            "  inflating: __MACOSX/celeba/._list_landmarks_align_celeba.txt  \n",
            "  inflating: celeba/list_landmarks_celeba.txt  \n",
            "  inflating: __MACOSX/celeba/._list_landmarks_celeba.txt  \n",
            "  inflating: celeba/list_eval_partition.txt  \n",
            "  inflating: __MACOSX/celeba/._list_eval_partition.txt  \n",
            "  inflating: celeba/identity_CelebA.txt  \n",
            "  inflating: __MACOSX/celeba/._identity_CelebA.txt  \n"
          ]
        }
      ]
    },
    {
      "cell_type": "code",
      "source": [
        "import torchvision\n",
        "\n",
        "image_path='./'\n",
        "from torchvision import transforms\n",
        "transform_train = transforms.Compose([transforms.RandomCrop([178,178]),\n",
        "                                      transforms.RandomHorizontalFlip(),\n",
        "                                      transforms.Resize([64,64]),\n",
        "                                      transforms.ToTensor()])\n",
        "transform = transforms.Compose([transforms.RandomCrop([178,178]),\n",
        "                                transforms.Resize([64,64]),\n",
        "                                transforms.ToTensor()])\n",
        "get_smile = lambda attr: attr[18]\n",
        "celeba_train_dataset = torchvision.datasets.CelebA(image_path,download=True,split='train',target_type='attr',transform = transform_train,target_transform = get_smile)\n",
        "celeba_test_dataset = torchvision.datasets.CelebA(image_path,download=True,split='test',target_type='attr',transform=transform,target_transform = get_smile)\n",
        "celeba_valid_dataset = torchvision.datasets.CelebA(image_path,download=True,split='valid',target_type='attr',transform=transform,target_transform = get_smile)"
      ],
      "metadata": {
        "colab": {
          "base_uri": "https://localhost:8080/"
        },
        "id": "its1N3nL08II",
        "outputId": "e64241b4-037d-4b9d-adf3-aca8befa62ac"
      },
      "execution_count": 4,
      "outputs": [
        {
          "output_type": "stream",
          "name": "stdout",
          "text": [
            "Using downloaded and verified file: ./celeba/img_align_celeba.zip\n",
            "Using downloaded and verified file: ./celeba/list_attr_celeba.txt\n",
            "Using downloaded and verified file: ./celeba/identity_CelebA.txt\n",
            "Using downloaded and verified file: ./celeba/list_bbox_celeba.txt\n",
            "Using downloaded and verified file: ./celeba/list_landmarks_align_celeba.txt\n",
            "Using downloaded and verified file: ./celeba/list_eval_partition.txt\n",
            "Files already downloaded and verified\n",
            "Files already downloaded and verified\n"
          ]
        }
      ]
    },
    {
      "cell_type": "code",
      "source": [
        "import torch\n",
        "from torch.utils.data import Subset\n",
        "from torch.utils.data import DataLoader\n",
        "celeba_train_dataset=Subset(celeba_train_dataset,torch.arange(16000))\n",
        "celeba_valid_datest = Subset(celeba_valid_dataset,torch.arange(1000))"
      ],
      "metadata": {
        "id": "8tGuvKZR1nH1"
      },
      "execution_count": 5,
      "outputs": []
    },
    {
      "cell_type": "code",
      "source": [
        "batch_size = 32\n",
        "torch.manual_seed(1)\n",
        "train_dl = DataLoader(celeba_train_dataset,batch_size,shuffle=True)\n",
        "valid_dl = DataLoader(celeba_valid_dataset,batch_size,shuffle=False)\n",
        "test_dl = DataLoader(celeba_test_dataset,batch_size,shuffle=False)"
      ],
      "metadata": {
        "id": "Qm0Rv5K32c0E"
      },
      "execution_count": 6,
      "outputs": []
    },
    {
      "cell_type": "code",
      "source": [
        "import torch.nn as nn\n",
        "model = nn.Sequential()\n",
        "model.add_module('conv1',nn.Conv2d(in_channels = 3,out_channels = 32,kernel_size =3,padding=1))\n",
        "model.add_module('relu1',nn.ReLU())\n",
        "model.add_module('pool1',nn.MaxPool2d(kernel_size = 2))\n",
        "model.add_module('conv2',nn.Conv2d(in_channels=32,out_channels=64,kernel_size = 3,padding='same'))\n",
        "model.add_module('relu2',nn.ReLU())\n",
        "model.add_module('pool2',nn.MaxPool2d(kernel_size = 2))\n",
        "model.add_module('conv3',nn.Conv2d(in_channels=64,out_channels=128,kernel_size=3,padding='same'))\n",
        "model.add_module('relu3',nn.ReLU())\n",
        "model.add_module('pool3',nn.MaxPool2d(kernel_size = 2))\n",
        "model.add_module('conv4',nn.Conv2d(in_channels=128,out_channels=256,kernel_size=3,padding='same'))\n",
        "model.add_module('relu4',nn.ReLU())\n",
        "model.add_module('globalpool',nn.AvgPool2d(kernel_size=8))\n",
        "model.add_module('flat1',nn.Flatten())\n",
        "model.add_module('fc1',nn.Linear(256,1))\n",
        "model.add_module('sig',nn.Sigmoid())\n",
        "model\n"
      ],
      "metadata": {
        "colab": {
          "base_uri": "https://localhost:8080/"
        },
        "id": "g16gKGQT8NLL",
        "outputId": "69f7f4a0-de5f-4a01-d689-a97b09e7e16c"
      },
      "execution_count": 7,
      "outputs": [
        {
          "output_type": "execute_result",
          "data": {
            "text/plain": [
              "Sequential(\n",
              "  (conv1): Conv2d(3, 32, kernel_size=(3, 3), stride=(1, 1), padding=(1, 1))\n",
              "  (relu1): ReLU()\n",
              "  (pool1): MaxPool2d(kernel_size=2, stride=2, padding=0, dilation=1, ceil_mode=False)\n",
              "  (conv2): Conv2d(32, 64, kernel_size=(3, 3), stride=(1, 1), padding=same)\n",
              "  (relu2): ReLU()\n",
              "  (pool2): MaxPool2d(kernel_size=2, stride=2, padding=0, dilation=1, ceil_mode=False)\n",
              "  (conv3): Conv2d(64, 128, kernel_size=(3, 3), stride=(1, 1), padding=same)\n",
              "  (relu3): ReLU()\n",
              "  (pool3): MaxPool2d(kernel_size=2, stride=2, padding=0, dilation=1, ceil_mode=False)\n",
              "  (conv4): Conv2d(128, 256, kernel_size=(3, 3), stride=(1, 1), padding=same)\n",
              "  (relu4): ReLU()\n",
              "  (globalpool): AvgPool2d(kernel_size=8, stride=8, padding=0)\n",
              "  (flat1): Flatten(start_dim=1, end_dim=-1)\n",
              "  (fc1): Linear(in_features=256, out_features=1, bias=True)\n",
              "  (sig): Sigmoid()\n",
              ")"
            ]
          },
          "metadata": {},
          "execution_count": 7
        }
      ]
    },
    {
      "cell_type": "code",
      "source": [
        "loss_fn = nn.BCELoss()\n",
        "optimizer = torch.optim.Adam(model.parameters(),lr=0.001)"
      ],
      "metadata": {
        "id": "bbSUxQhS4GK5"
      },
      "execution_count": 8,
      "outputs": []
    },
    {
      "cell_type": "code",
      "source": [
        "def train(model,train_dl,valid_dl,num_epochs):\n",
        "  train_loss = [0]*num_epochs\n",
        "  valid_loss = [0]*num_epochs\n",
        "  train_acc = [0]*num_epochs\n",
        "  valid_acc = [0]*num_epochs\n",
        "  for epoch in range(num_epochs):\n",
        "    model.train()\n",
        "    for x_batch, y_batch in train_dl:\n",
        "      pred = model(x_batch)[:,0]\n",
        "      loss = loss_fn(pred,y_batch.float())\n",
        "      loss.backward()\n",
        "      optimizer.step()\n",
        "      optimizer.zero_grad()\n",
        "      train_loss[epoch]+=loss.item()*y_batch.size(0)\n",
        "      is_correct = ((pred>=0.5).float()==y_batch).float()\n",
        "      train_acc[epoch] += is_correct.sum()\n",
        "    train_loss[epoch]/=len(train_dl.dataset)\n",
        "    train_acc[epoch]/=len(train_dl.dataset)\n",
        "    model.eval()\n",
        "    for x_batch, y_batch in valid_dl:\n",
        "      pred = model(x_batch)[:,0]\n",
        "      loss = loss_fn(pred,y_batch.float())\n",
        "      loss.backward()\n",
        "      optimizer.step()\n",
        "      optimizer.zero_grad()\n",
        "      valid_loss[epoch] += loss.item()*y_batch.size(0)\n",
        "      is_c = ((pred>=0.5).float()==y_batch).float()\n",
        "      valid_acc[epoch]+=is_c.sum()\n",
        "    valid_loss[epoch]/=len(valid_dl.dataset)\n",
        "    valid_acc[epoch]/=len(valid_dl.dataset)\n",
        "    print(f'Epoch : {epoch}, Training loss : {train_loss[epoch]} Training accuracy : {train_acc[epoch]} \\n\\\n",
        "    Valid loss : {valid_loss[epoch]} Valid accuracy : {valid_acc[epoch]}')\n",
        "  return train_loss,train_acc,valid_loss,valid_acc\n",
        "\n",
        "\n",
        "\n",
        "torch.manual_seed(1)\n",
        "num_epochs = 30\n",
        "hist  = train(model,train_dl,valid_dl,num_epochs)"
      ],
      "metadata": {
        "colab": {
          "base_uri": "https://localhost:8080/"
        },
        "id": "alymvj064nMG",
        "outputId": "4792bbd9-adcb-4dc4-b778-f60c645ee0c2"
      },
      "execution_count": 15,
      "outputs": [
        {
          "output_type": "stream",
          "name": "stdout",
          "text": [
            "Epoch : 0, Training loss : 0.6188997430205345 Training accuracy : 0.655875027179718 \n",
            "    Valid loss : 0.5301357290597413 Valid accuracy : 0.7322695851325989\n",
            "Epoch : 1, Training loss : 0.49511879843473433 Training accuracy : 0.7566249966621399 \n",
            "    Valid loss : 0.46835218755259345 Valid accuracy : 0.7730910778045654\n",
            "Epoch : 2, Training loss : 0.4372204585969448 Training accuracy : 0.7941250205039978 \n",
            "    Valid loss : 0.35698243296547816 Valid accuracy : 0.8390798568725586\n",
            "Epoch : 3, Training loss : 0.3262934174835682 Training accuracy : 0.8569375276565552 \n",
            "    Valid loss : 0.30344503267863715 Valid accuracy : 0.8652539253234863\n",
            "Epoch : 4, Training loss : 0.30015237188339233 Training accuracy : 0.8686249852180481 \n",
            "    Valid loss : 0.2864317493569949 Valid accuracy : 0.8726028203964233\n",
            "Epoch : 5, Training loss : 0.28521419610083104 Training accuracy : 0.8756250143051147 \n",
            "    Valid loss : 0.2740780565380096 Valid accuracy : 0.8781396150588989\n",
            "Epoch : 6, Training loss : 0.27241679552197456 Training accuracy : 0.8808749914169312 \n",
            "    Valid loss : 0.2540053008086261 Valid accuracy : 0.88689786195755\n",
            "Epoch : 7, Training loss : 0.26186263401806353 Training accuracy : 0.8849999904632568 \n",
            "    Valid loss : 0.24405231284928405 Valid accuracy : 0.8918306827545166\n",
            "Epoch : 8, Training loss : 0.256355538636446 Training accuracy : 0.8850625157356262 \n",
            "    Valid loss : 0.23620853802410402 Valid accuracy : 0.8955554366111755\n",
            "Epoch : 9, Training loss : 0.24557855316996574 Training accuracy : 0.8911250233650208 \n",
            "    Valid loss : 0.22691229636451227 Valid accuracy : 0.9005889296531677\n",
            "Epoch : 10, Training loss : 0.2429123406484723 Training accuracy : 0.8934999704360962 \n",
            "    Valid loss : 0.2223932106126061 Valid accuracy : 0.9004378914833069\n",
            "Epoch : 11, Training loss : 0.23923894093930723 Training accuracy : 0.8949999809265137 \n",
            "    Valid loss : 0.2154725086518285 Valid accuracy : 0.905320405960083\n",
            "Epoch : 12, Training loss : 0.2367314817458391 Training accuracy : 0.8973125219345093 \n",
            "    Valid loss : 0.21274697038888776 Valid accuracy : 0.9060250520706177\n",
            "Epoch : 13, Training loss : 0.23551475171744823 Training accuracy : 0.8984375 \n",
            "    Valid loss : 0.20644815197053132 Valid accuracy : 0.9080888032913208\n",
            "Epoch : 14, Training loss : 0.23039171305298806 Training accuracy : 0.9001250267028809 \n",
            "    Valid loss : 0.20068874977866194 Valid accuracy : 0.9128705859184265\n",
            "Epoch : 15, Training loss : 0.22615800094604493 Training accuracy : 0.8990625143051147 \n",
            "    Valid loss : 0.20066490012177488 Valid accuracy : 0.9142296314239502\n",
            "Epoch : 16, Training loss : 0.22271806002035738 Training accuracy : 0.9006875157356262 \n",
            "    Valid loss : 0.19514749430991168 Valid accuracy : 0.9131726026535034\n",
            "Epoch : 17, Training loss : 0.22411446306109428 Training accuracy : 0.9006875157356262 \n",
            "    Valid loss : 0.1920533873894233 Valid accuracy : 0.916545033454895\n",
            "Epoch : 18, Training loss : 0.2180776849463582 Training accuracy : 0.9039375185966492 \n",
            "    Valid loss : 0.18761080589343995 Valid accuracy : 0.9183067679405212\n",
            "Epoch : 19, Training loss : 0.21577094543725253 Training accuracy : 0.9052500128746033 \n",
            "    Valid loss : 0.18321085055176117 Valid accuracy : 0.9218301773071289\n",
            "Epoch : 20, Training loss : 0.21577771709859372 Training accuracy : 0.9055625200271606 \n",
            "    Valid loss : 0.17800743029135827 Valid accuracy : 0.92278653383255\n",
            "Epoch : 21, Training loss : 0.21773250515013934 Training accuracy : 0.9075624942779541 \n",
            "    Valid loss : 0.17747988441785856 Valid accuracy : 0.9235415458679199\n",
            "Epoch : 22, Training loss : 0.21279396343231202 Training accuracy : 0.9054375290870667 \n",
            "    Valid loss : 0.17005532607492432 Valid accuracy : 0.9271656274795532\n",
            "Epoch : 23, Training loss : 0.2126993395164609 Training accuracy : 0.9051874876022339 \n",
            "    Valid loss : 0.1673325080138217 Valid accuracy : 0.9281219840049744\n",
            "Epoch : 24, Training loss : 0.20880243536829948 Training accuracy : 0.9101250171661377 \n",
            "    Valid loss : 0.1622407945822627 Valid accuracy : 0.9313937425613403\n",
            "Epoch : 25, Training loss : 0.20946531613171102 Training accuracy : 0.9072499871253967 \n",
            "    Valid loss : 0.15880342724361735 Valid accuracy : 0.9330044984817505\n",
            "Epoch : 26, Training loss : 0.2051959516480565 Training accuracy : 0.9098749756813049 \n",
            "    Valid loss : 0.15497130186990277 Valid accuracy : 0.9341621994972229\n",
            "Epoch : 27, Training loss : 0.20219156616553663 Training accuracy : 0.9118750095367432 \n",
            "    Valid loss : 0.1481102276425624 Valid accuracy : 0.9376353025436401\n",
            "Epoch : 28, Training loss : 0.19974482358247042 Training accuracy : 0.913812518119812 \n",
            "    Valid loss : 0.1430731175235139 Valid accuracy : 0.9395480155944824\n",
            "Epoch : 29, Training loss : 0.1999528937265277 Training accuracy : 0.9118124842643738 \n",
            "    Valid loss : 0.14149705726821535 Valid accuracy : 0.9424673914909363\n"
          ]
        }
      ]
    },
    {
      "cell_type": "code",
      "source": [
        "acct = 0\n",
        "model.eval()\n",
        "with torch.no_grad():\n",
        "  for x, y in test_dl:\n",
        "    pred = model(x)[:,0]\n",
        "    isc = ((pred>=0.5).float()==y).float()\n",
        "    acct += isc.sum()\n",
        "  acct/=len(test_dl.dataset)\n",
        "print(f'test accuracy ; {acct}  ')"
      ],
      "metadata": {
        "colab": {
          "base_uri": "https://localhost:8080/"
        },
        "id": "z3ZbCduMEMM_",
        "outputId": "e3ad9b5a-c3ed-4f95-cadd-75df94f0d0e4"
      },
      "execution_count": 16,
      "outputs": [
        {
          "output_type": "stream",
          "name": "stdout",
          "text": [
            "test accuracy ; 0.8796212673187256  \n"
          ]
        }
      ]
    },
    {
      "cell_type": "code",
      "source": [
        ""
      ],
      "metadata": {
        "id": "8U-C-z4zwXom"
      },
      "execution_count": 16,
      "outputs": []
    },
    {
      "cell_type": "code",
      "source": [
        ""
      ],
      "metadata": {
        "id": "ObZehf6p5YCu"
      },
      "execution_count": null,
      "outputs": []
    }
  ]
}